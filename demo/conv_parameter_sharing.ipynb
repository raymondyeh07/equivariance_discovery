{
 "cells": [
  {
   "cell_type": "code",
   "execution_count": 1,
   "metadata": {},
   "outputs": [],
   "source": [
    "import sys\n",
    "sys.path.append(\"../projects/ConvSharing/\")\n",
    "import numpy as np\n",
    "import scipy\n",
    "from scipy import linalg\n",
    "import matplotlib.pyplot as plt\n",
    "import seaborn as sns\n",
    "import conv_sharing\n",
    "from conv_sharing.model import helper"
   ]
  },
  {
   "cell_type": "code",
   "execution_count": 2,
   "metadata": {},
   "outputs": [],
   "source": [
    "def draw_mat(ax, mat, cmap=None):\n",
    "    if cmap is None:\n",
    "        cmap = 'tab20c'\n",
    "    cax = ax.matshow(mat, interpolation='nearest', cmap=cmap)\n",
    "    for (i, j), z in np.ndenumerate(mat):\n",
    "        ax.text(j, i, '%d'%z, ha='center', va='center', size=20)\n",
    "    plt.axis('off')\n",
    "    return ax"
   ]
  },
  {
   "cell_type": "markdown",
   "metadata": {},
   "source": [
    "# Illustration of Convolution as a Linear System\n",
    "Consider a convolution with the kernel $[1,2]$, we can write it as a linear system with a Linear operator $G$."
   ]
  },
  {
   "cell_type": "code",
   "execution_count": 3,
   "metadata": {},
   "outputs": [
    {
     "data": {
      "image/png": "[encoded data removed]",
      "text/plain": [
       "<Figure size 432x288 with 1 Axes>"
      ]
     },
     "metadata": {
      "needs_background": "light"
     },
     "output_type": "display_data"
    }
   ],
   "source": [
    "input_dim = 3\n",
    "ksize = 2\n",
    "G = helper.generate_conv_teoplitz(input_dim, ksize)\n",
    "fig = plt.figure()\n",
    "ax = fig.add_subplot(111)\n",
    "draw_mat(ax, G)\n",
    "ax.title.set_text('G')"
   ]
  },
  {
   "cell_type": "markdown",
   "metadata": {},
   "source": [
    "Observe that the values in $G$ are shared. We can encode this sharing scheme by using an assignment matrix $\\mathbf{A}$, where $\\mathbf{A}\\psi=\\text{Flatten}(G)$, as illustrated below."
   ]
  },
  {
   "cell_type": "code",
   "execution_count": 4,
   "metadata": {},
   "outputs": [
    {
     "data": {
      "image/png": "[encoded data removed]",
      "text/plain": [
       "<Figure size 1800x720 with 3 Axes>"
      ]
     },
     "metadata": {
      "needs_background": "light"
     },
     "output_type": "display_data"
    }
   ],
   "source": [
    "fig = plt.figure(figsize=(25,10))\n",
    "ax = fig.add_subplot(311)\n",
    "G_flatten = np.reshape(G,(1,-1)).T\n",
    "draw_mat(ax, G_flatten)\n",
    "ax.title.set_text('Flatten($G$)')\n",
    "ax = fig.add_subplot(331)\n",
    "A = helper.generate_conv_A(input_dim, ksize)\n",
    "ax = draw_mat(ax, A)\n",
    "ax.title.set_text('$A$')\n",
    "A_plus = scipy.linalg.pinv(A)\n",
    "psi = A_plus.dot(G_flatten)\n",
    "ax = fig.add_subplot(321)\n",
    "ax = draw_mat(ax, psi)\n",
    "ax.title.set_text('$\\psi$')"
   ]
  },
  {
   "cell_type": "markdown",
   "metadata": {},
   "source": [
    "# Recovering the sharing scheme from data.\n",
    "We will next demo how to recover this $\\mathbf{A}$ from data."
   ]
  },
  {
   "cell_type": "code",
   "execution_count": 5,
   "metadata": {},
   "outputs": [
    {
     "name": "stdout",
     "output_type": "stream",
     "text": [
      "tensor([[[1., 2.]]])\n"
     ]
    }
   ],
   "source": [
    "import torch\n",
    "from conv_sharing.data.conv1d_dataset import Conv1DDataset\n",
    "# Create some data\n",
    "kernel = (1.+1*torch.arange(ksize).unsqueeze(0).unsqueeze(0).float())\n",
    "print(kernel)\n",
    "train_data = Conv1DDataset(num_samples=50, dim=input_dim, ksize=ksize,split='TRAIN',weight=kernel)\n",
    "val_data = Conv1DDataset(num_samples=100, dim=input_dim, ksize=ksize,split='VAL',weight=kernel)"
   ]
  },
  {
   "cell_type": "code",
   "execution_count": 6,
   "metadata": {},
   "outputs": [],
   "source": [
    "# Create our model\n",
    "from conv_sharing.model.closed_linear_model import ClosedLinearModel\n",
    "model = ClosedLinearModel(dim=input_dim, ksize=ksize)\n",
    "model.fit_model_parameters(train_data)  # Closed form lower-level optimization\n",
    "A_optimizer = torch.optim.Adam(model.hyper_parameters(), 0.1)\n",
    "# Perform gradient descent on A to optimize upper-level.\n",
    "for n_epoch in range(1000):\n",
    "    y_pred = model(val_data.x)\n",
    "    loss = model.total_val_loss(y_pred,val_data.y)\n",
    "    model.zero_grad()\n",
    "    loss.backward()\n",
    "    A_optimizer.step()"
   ]
  },
  {
   "cell_type": "code",
   "execution_count": 7,
   "metadata": {},
   "outputs": [],
   "source": [
    "# Prediction\n",
    "A_indices = model.get_A().argmax(-1).cpu().numpy()\n",
    "A_val = np.zeros((input_dim*ksize,input_dim*ksize))\n",
    "A_val[np.arange(input_dim*ksize), A_indices] = 1"
   ]
  },
  {
   "cell_type": "code",
   "execution_count": 8,
   "metadata": {},
   "outputs": [
    {
     "data": {
      "image/png": "[encoded data removed]",
      "text/plain": [
       "<Figure size 1440x720 with 2 Axes>"
      ]
     },
     "metadata": {
      "needs_background": "light"
     },
     "output_type": "display_data"
    }
   ],
   "source": [
    "fig = plt.figure(figsize=(20 ,10))\n",
    "ax = fig.add_subplot(221)\n",
    "ax = draw_mat(ax, A_val)\n",
    "ax.title.set_text('$A_{val}$')\n",
    "ax = fig.add_subplot(211)\n",
    "ax = draw_mat(ax, A)\n",
    "ax.title.set_text('$A_{gt}$')"
   ]
  },
  {
   "cell_type": "markdown",
   "metadata": {},
   "source": [
    "While $A_{val}$ and $A_{gt}$ encodes the same sharing scheme an elementwise comparison will not be accurate. This is because $A$ is not unique as $\\psi$ can be permuted. To see this, try permuting the columns of $A_{val}$.\n",
    "Hence, we propose to use partition distance to quantitatively evaluate the recovery performance."
   ]
  },
  {
   "cell_type": "code",
   "execution_count": 9,
   "metadata": {},
   "outputs": [],
   "source": [
    "from struct_discovery.evaluation.partition_distance import partition_distance"
   ]
  },
  {
   "cell_type": "code",
   "execution_count": 10,
   "metadata": {},
   "outputs": [
    {
     "name": "stdout",
     "output_type": "stream",
     "text": [
      "L2-Norm: 12.0\n",
      "Parition distance:0.0\n"
     ]
    }
   ],
   "source": [
    "print('L2-Norm: %s' % np.sum(np.square(A_val-A)))\n",
    "print('Parition distance:%s' % partition_distance(A_val, A))"
   ]
  },
  {
   "cell_type": "markdown",
   "metadata": {},
   "source": [
    "Observe that we have successfully recovered the sharing scheme!"
   ]
  }
 ],
 "metadata": {
  "kernelspec": {
   "display_name": "Python 3",
   "language": "python",
   "name": "python3"
  },
  "language_info": {
   "codemirror_mode": {
    "name": "ipython",
    "version": 3
   },
   "file_extension": ".py",
   "mimetype": "text/x-python",
   "name": "python",
   "nbconvert_exporter": "python",
   "pygments_lexer": "ipython3",
   "version": "3.7.10"
  }
 },
 "nbformat": 4,
 "nbformat_minor": 4
}
